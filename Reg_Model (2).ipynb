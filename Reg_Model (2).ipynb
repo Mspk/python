{
 "cells": [
  {
   "cell_type": "code",
   "execution_count": null,
   "id": "orange-heaven",
   "metadata": {},
   "outputs": [],
   "source": [
    "import numpy as np\n",
    "import pandas as pd                              #To import data and for analyzing it.\n",
    "\n",
    "import matplotlib.pyplot as plt                  #To visualize data(graphs and all).\n",
    "import seaborn as sns                            #--------------//------------------\n",
    "\n",
    "from statsmodels.api import OLS                  #For fitting a mathematical model to the data\n",
    "\n",
    "from sklearn import metrics as m                 #Metrics to evaluate the model.\n",
    "\n",
    "import warnings                                  #To avoid warnings.\n",
    "warnings.filterwarnings('ignore')"
   ]
  },
  {
   "cell_type": "markdown",
   "id": "thick-granny",
   "metadata": {},
   "source": [
    "## Importing the data using pandas."
   ]
  },
  {
   "cell_type": "code",
   "execution_count": null,
   "id": "pleasant-feedback",
   "metadata": {},
   "outputs": [],
   "source": [
    "path = ''                                       #URL of the .csv file.\n",
    "\n",
    "data = pd.read_csv(path)\n",
    "\n",
    "data.head()                                     #Shows the first five rows in the data."
   ]
  },
  {
   "cell_type": "code",
   "execution_count": null,
   "id": "satisfied-development",
   "metadata": {},
   "outputs": [],
   "source": [
    "data.shape                                      #To see how many rows and columns we have in the data."
   ]
  },
  {
   "cell_type": "markdown",
   "id": "premier-productivity",
   "metadata": {},
   "source": [
    "## Visualizing the data using matplotlib and seaborn."
   ]
  },
  {
   "cell_type": "code",
   "execution_count": null,
   "id": "judicial-occupation",
   "metadata": {},
   "outputs": [],
   "source": [
    "sns.lmplot(x = '', y = '', data = data)        #Plots a scatter plot."
   ]
  },
  {
   "cell_type": "markdown",
   "id": "signed-thesaurus",
   "metadata": {},
   "source": [
    "## Preparing the data."
   ]
  },
  {
   "cell_type": "code",
   "execution_count": null,
   "id": "limiting-evans",
   "metadata": {},
   "outputs": [],
   "source": [
    "X = data['']                                   #The independent variable.\n",
    "Y = data['']                                   #The dependent variable."
   ]
  },
  {
   "cell_type": "markdown",
   "id": "racial-museum",
   "metadata": {},
   "source": [
    "## Building the model."
   ]
  },
  {
   "cell_type": "code",
   "execution_count": null,
   "id": "excess-arrival",
   "metadata": {},
   "outputs": [],
   "source": [
    "model = OLS(Y, X)                              #Creates a model for the data.\n",
    "\n",
    "results = model.fit()                          #Fits the model to the data for future predictions."
   ]
  },
  {
   "cell_type": "markdown",
   "id": "moving-infrastructure",
   "metadata": {},
   "source": [
    "## Checking for homoscedasticity of data."
   ]
  },
  {
   "cell_type": "code",
   "execution_count": null,
   "id": "fallen-drawing",
   "metadata": {},
   "outputs": [],
   "source": [
    "residual = y_train-lr.predict(x_train)\n",
    "\n",
    "plt.scatter(lr.predict(x_train), residual)"
   ]
  },
  {
   "cell_type": "markdown",
   "id": "blocked-junior",
   "metadata": {},
   "source": [
    "## The model summary(How good is the model)."
   ]
  },
  {
   "cell_type": "code",
   "execution_count": null,
   "id": "opposite-relations",
   "metadata": {},
   "outputs": [],
   "source": [
    "print(results.summary())                       #Shows the summary of the performance of the model."
   ]
  },
  {
   "cell_type": "code",
   "execution_count": null,
   "id": "failing-promotion",
   "metadata": {},
   "outputs": [],
   "source": [
    "def metrics(y_true, y_pred) :                         #Function to evaluate how good a fit the model is for the given data.\n",
    "    mae = m.mean_absolute_error(y_true, y_pred)       #Mean absolute error\n",
    "    mse = m.mean_squared_error(y_true, y_pred)        #Mean squared error\n",
    "    rmse = np.sqrt(mse)                               #Root mean squared error\n",
    "    medae = m.median_absolute_error(y_true, y_pred)   #Median absolute error\n",
    "    r2e = m.r2_score(y_true, y_pred)                  #R^2 error\n",
    "    \n",
    "    return (mae, mse, rmse, medae, r2e)"
   ]
  },
  {
   "cell_type": "code",
   "execution_count": null,
   "id": "sunrise-notice",
   "metadata": {},
   "outputs": [],
   "source": [
    "model_eval = metrics(Y, model.predict(X))     #The predict function is used to predict Y using the model for any X value(s)."
   ]
  },
  {
   "cell_type": "markdown",
   "id": "successful-olympus",
   "metadata": {},
   "source": [
    "## Visualizing the fit of the model."
   ]
  },
  {
   "cell_type": "code",
   "execution_count": null,
   "id": "exposed-reporter",
   "metadata": {},
   "outputs": [],
   "source": [
    "plt.scatter(X, Y)\n",
    "plt.plot(X, model.predict(X.values.reshape(-1, 1)))\n",
    "plt.xlabel(X)\n",
    "plt.ylabel(Y)\n",
    "plt.show()\n",
    "\n",
    "lr.coef_[0], lr.intercept_                            # Slope and y-intercept of the best fit line."
   ]
  },
  {
   "cell_type": "markdown",
   "id": "fiscal-commonwealth",
   "metadata": {},
   "source": [
    "## The model is ready to make predictions on unseen data.\n",
    "\n",
    "### X=9.25 hrs/day"
   ]
  },
  {
   "cell_type": "code",
   "execution_count": null,
   "id": "further-utilization",
   "metadata": {},
   "outputs": [],
   "source": [
    "x = [[9.25]]\n",
    "\n",
    "prediction = lr.predict(x)\n",
    "\n",
    "print(\"Estimated score for 9.25 hrs/day studytime =\", prediction[0])"
   ]
  }
 ],
 "metadata": {
  "kernelspec": {
   "display_name": "Python 3",
   "language": "python",
   "name": "python3"
  },
  "language_info": {
   "codemirror_mode": {
    "name": "ipython",
    "version": 3
   },
   "file_extension": ".py",
   "mimetype": "text/x-python",
   "name": "python",
   "nbconvert_exporter": "python",
   "pygments_lexer": "ipython3",
   "version": "3.7.6"
  }
 },
 "nbformat": 4,
 "nbformat_minor": 5
}
